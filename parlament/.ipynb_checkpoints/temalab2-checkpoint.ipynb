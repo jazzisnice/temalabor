{
 "cells": [
  {
   "cell_type": "code",
   "execution_count": 3,
   "metadata": {
    "collapsed": false
   },
   "outputs": [
    {
     "name": "stdout",
     "output_type": "stream",
     "text": [
      "0  interviews found.\n"
     ]
    }
   ],
   "source": [
    "import urllib.request\n",
    "import re\n",
    "from html.parser import HTMLParser\n",
    "\n",
    "NUMBER_OF_PAGES = 10\n",
    "ARTICLES_PER_PAGE = 30\n",
    "KORMANY_WEBLAP = \"http://www.kormany.hu/hu/a-miniszterelnok/beszedek-publikaciok-interjuk?items={0}&page={1}\"\n",
    "\n",
    "links_in_page = []\n",
    "counter = 0\n",
    "\n",
    "class MyHTMLParser(HTMLParser):\n",
    "    def handle_starttag(self, tag, attrs):\n",
    "        if tag == \"a\":\n",
    "            for name, value in attrs: \n",
    "                if name == \"href\":\n",
    "                    if value.startswith('hu/a-miniszterelnok/beszedek-publikaciok-interjuk/'):\n",
    "                        links_in_page.append(value)\n",
    "                        counter += 1\n",
    "\n",
    "parser = MyHTMLParser()\n",
    "\n",
    "for page in range(1, NUMBER_OF_PAGES+1):\n",
    "    current_url = KORMANY_WEBLAP.format(ARTICLES_PER_PAGE, page)\n",
    "    with urllib.request.urlopen(current_url) as f:\n",
    "        html_page = f.read()\n",
    "        html_page_utf = html_page.decode('utf-8')    \n",
    "        parser.feed(html_page_utf)\n",
    "        \n",
    "print(counter , \" interviews found.\")\n",
    "\n",
    "for item in links_in_page: \n",
    "    print(item)\n"
   ]
  },
  {
   "cell_type": "code",
   "execution_count": null,
   "metadata": {
    "collapsed": true
   },
   "outputs": [],
   "source": []
  }
 ],
 "metadata": {
  "anaconda-cloud": {},
  "kernelspec": {
   "display_name": "Python [conda root]",
   "language": "python",
   "name": "conda-root-py"
  },
  "language_info": {
   "codemirror_mode": {
    "name": "ipython",
    "version": 3
   },
   "file_extension": ".py",
   "mimetype": "text/x-python",
   "name": "python",
   "nbconvert_exporter": "python",
   "pygments_lexer": "ipython3",
   "version": "3.5.2"
  }
 },
 "nbformat": 4,
 "nbformat_minor": 1
}
