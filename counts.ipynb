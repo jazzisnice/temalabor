{
 "cells": [
  {
   "cell_type": "code",
   "execution_count": 3,
   "metadata": {
    "collapsed": false
   },
   "outputs": [],
   "source": [
    "##Count each word and letters in text\n",
    "\n",
    "\n",
    "wordsoutput = open('wordsoutput.txt' , 'w')\n",
    "lettersoutput = open('lettersoutput.txt', 'w')\n",
    "\n",
    "words = {}\n",
    "letters = {}\n",
    "with open('europarl-v7.hu-en.hu' , 'r') as input_file:\n",
    "    for line in input_file:\n",
    "        wordsInLine = line.split()\n",
    "        for word in wordsInLine:\n",
    "            for letter in word:\n",
    "                if letter in letters.keys():\n",
    "                    letters[letter] += 1\n",
    "                else:\n",
    "                    letters[letter] = 1\n",
    "            if word in words.keys():\n",
    "                words[word] += 1\n",
    "            else:\n",
    "                words[word] = 1\n",
    "\n",
    "#Writing output into files\n",
    "for i, j in sorted(words.items(), key=lambda item: (item[1] , item[0]), reverse=True):\n",
    "    wordsoutput.write(\"{0} \\t {1} \\n\".format(i,j))\n",
    "for k, l in sorted(letters.items(), key=lambda item: (item[1], item[0]), reverse=True):\n",
    "    lettersoutput.write(\"{0} \\t {1} \\n\".format(k,l))\n"
   ]
  },
  {
   "cell_type": "code",
   "execution_count": 4,
   "metadata": {
    "collapsed": false
   },
   "outputs": [],
   "source": [
    "#Same as last, with collections.Counter\n",
    "\n",
    "from collections import Counter\n",
    "\n",
    "wordsoutput = open('wordsoutput2.txt' , 'w')\n",
    "lettersoutput = open('lettersoutput2.txt' , 'w')\n",
    "\n",
    "wordCounter = Counter()\n",
    "letterCounter = Counter()\n",
    "\n",
    "with open('europarl-v7.hu-en.hu' , 'r') as input_file:\n",
    "    for word in input_file.read().split():\n",
    "            wordCounter[word] += 1\n",
    "            for letter in word:\n",
    "                letterCounter[letter] += 1\n",
    "        \n",
    "for item in letterCounter.most_common():\n",
    "    lettersoutput.write(\"{0} \\t {1} \\n\".format(item[0] , item[1]))\n",
    "    \n",
    "for item in wordCounter.most_common():\n",
    "    wordsoutput.write(\"{0} \\t {1} \\n\".format(item[0] , item[1]))\n",
    "\n",
    "\n",
    "\n"
   ]
  },
  {
   "cell_type": "code",
   "execution_count": null,
   "metadata": {
    "collapsed": false
   },
   "outputs": [],
   "source": [
    "import string\n",
    "with open('europarl-v7.hu-en.hu' , 'r') as input_file:\n",
    "    with open('lowercase_output.txt' , 'w') as output_file: \n",
    "        for word in input_file.read():\n",
    "            for p in string.punctuation:\n",
    "                word = word.replace(p,\"\")\n",
    "            output_file.write(word.lower())"
   ]
  },
  {
   "cell_type": "code",
   "execution_count": 2,
   "metadata": {
    "collapsed": true
   },
   "outputs": [],
   "source": [
    "## Számolás futtatása a kisbetűsített szövegen\n",
    "from collections import Counter\n",
    "\n",
    "\n",
    "\n",
    "\n",
    "wordCounter = Counter()\n",
    "letterCounter = Counter()\n",
    "\n",
    "with open('lowercase_output.txt' , 'r') as input_file:\n",
    "    for word in input_file.read().split():\n",
    "        if word.isdigit():\n",
    "            wordCounter[\"__NUM__\"] += 1\n",
    "        else:\n",
    "            wordCounter[word] += 1\n",
    "            for letter in word:\n",
    "                letterCounter[letter] += 1\n",
    "        \n",
    "with open('lower_letters_stats.txt' , 'w') as lettersoutput:\n",
    "    for item in letterCounter.most_common():\n",
    "        lettersoutput.write(\"{0} \\t {1} \\n\".format(item[0] , item[1]))\n",
    "\n",
    "        \n",
    "with open('lower_words_stats.txt' , 'w') as wordsoutput:\n",
    "    for item in wordCounter.most_common():\n",
    "        wordsoutput.write(\"{0} \\t {1} \\n\".format(item[0] , item[1]))"
   ]
  },
  {
   "cell_type": "code",
   "execution_count": 8,
   "metadata": {
    "collapsed": false
   },
   "outputs": [],
   "source": [
    "##Ritka szavak lecserélése RARE-re\n",
    "\n",
    "\n",
    "\n",
    "def change_rare_words(filename, rare_border):\n",
    "    wordCounter = {}\n",
    "\n",
    "    with open(filename , 'r') as input_file:\n",
    "        for word in input_file.read().split():\n",
    "            if word.isdigit():\n",
    "                if \"__NUM__\" in wordCounter.keys():\n",
    "                    wordCounter[\"__NUM__\"] += 1\n",
    "                else:\n",
    "                    wordCounter[\"__NUM__\"] = 1\n",
    "            else:\n",
    "                if word in wordCounter.keys():\n",
    "                    wordCounter[word] += 1\n",
    "                else: \n",
    "                    wordCounter[word] = 1\n",
    "    \n",
    "    with open(filename, 'r') as input_file:\n",
    "        with open('teszt.txt' , 'w') as output_file: \n",
    "            for line in input_file:\n",
    "                wordInLine = line.split()\n",
    "                for word in wordInLine:\n",
    "                    if word in wordCounter.keys():                    \n",
    "                        if wordCounter[word] < rare_border:\n",
    "                            output_file.write(' __RARE__ ' + ' ')\n",
    "                        else: \n",
    "                            output_file.write(word + ' ')\n",
    "                output_file.write('\\n')\n",
    "\n",
    "change_rare_words('lowercase_output.txt' , 40)"
   ]
  },
  {
   "cell_type": "code",
   "execution_count": 36,
   "metadata": {
    "collapsed": false
   },
   "outputs": [
    {
     "name": "stdout",
     "output_type": "stream",
     "text": [
      "Ratio: 6253174 / 38151831\n",
      "16.390233013980378%At the dict_size of: 500\n",
      "\n",
      "\n",
      "Ratio: 8596508 / 38151831\n",
      "22.532360242421916%At the dict_size of: 1000\n",
      "\n",
      "\n",
      "Ratio: 8596508 / 38151831\n",
      "22.532360242421916%At the dict_size of: 1500\n",
      "\n",
      "\n",
      "Ratio: 8596508 / 38151831\n",
      "22.532360242421916%At the dict_size of: 2000\n",
      "\n",
      "\n",
      "Ratio: 8596508 / 38151831\n",
      "22.532360242421916%At the dict_size of: 2500\n",
      "\n",
      "\n",
      "Ratio: 8596508 / 38151831\n",
      "22.532360242421916%At the dict_size of: 3000\n",
      "\n",
      "\n",
      "Ratio: 8596508 / 38151831\n",
      "22.532360242421916%At the dict_size of: 3500\n",
      "\n",
      "\n",
      "Ratio: 9993351 / 38151831\n",
      "26.193634061757088%At the dict_size of: 4000\n",
      "\n",
      "\n",
      "Ratio: 9993351 / 38151831\n",
      "26.193634061757088%At the dict_size of: 4500\n",
      "\n",
      "\n",
      "Ratio: 9993351 / 38151831\n",
      "26.193634061757088%At the dict_size of: 5000\n",
      "\n",
      "\n",
      "Ratio: 9993351 / 38151831\n",
      "26.193634061757088%At the dict_size of: 5500\n",
      "\n",
      "\n"
     ]
    }
   ],
   "source": [
    "## Az első x szó mennyire fedi le az eredeti szöveget? \n",
    "\n",
    "def check_dict_ratio(dict_size):\n",
    "    frequent_words = {} \n",
    "    numOfFrequent = 0\n",
    "    numOfWords = 0\n",
    "    check_number = 0\n",
    "    with open('lower_words_stats.txt' , 'r') as dict_input:\n",
    "        for line in dict_input:\n",
    "            if check_number < dict_size:\n",
    "                word_in_line = line.split()\n",
    "                frequent_words[word_in_line[0]] = word_in_line[1]\n",
    "            check_number += 1\n",
    "            \n",
    "    with open('lowercase_output.txt' , 'r') as lowercase_input:\n",
    "        for line in lowercase_input: \n",
    "            for word in line: \n",
    "                if word in frequent_words.keys():\n",
    "                    numOfFrequent += 1\n",
    "                    numOfWords += 1\n",
    "                else:\n",
    "                    numOfWords += 1\n",
    "        print('Ratio: ' + str(numOfFrequent) + ' / ' + str(numOfWords))\n",
    "        ratio = numOfFrequent / numOfWords\n",
    "        ratio *= 100\n",
    "        print(str(ratio) + '%' + ' - At the dict_size of: ' + str(dict_size) + '\\n\\n' )\n",
    "\n",
    "frq_words = 0\n",
    "while True: \n",
    "    if frq_words > 5000: \n",
    "        break\n",
    "    else:\n",
    "        frq_words += 500\n",
    "        check_dict_ratio(frq_words)"
   ]
  },
  {
   "cell_type": "code",
   "execution_count": null,
   "metadata": {
    "collapsed": true
   },
   "outputs": [],
   "source": []
  }
 ],
 "metadata": {
  "anaconda-cloud": {},
  "kernelspec": {
   "display_name": "Python [default]",
   "language": "python",
   "name": "python3"
  },
  "language_info": {
   "codemirror_mode": {
    "name": "ipython",
    "version": 3
   },
   "file_extension": ".py",
   "mimetype": "text/x-python",
   "name": "python",
   "nbconvert_exporter": "python",
   "pygments_lexer": "ipython3",
   "version": "3.5.2"
  }
 },
 "nbformat": 4,
 "nbformat_minor": 1
}
