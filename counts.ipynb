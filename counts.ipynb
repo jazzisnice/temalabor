{
 "cells": [
  {
   "cell_type": "code",
   "execution_count": 34,
   "metadata": {
    "collapsed": false
   },
   "outputs": [
    {
     "name": "stdout",
     "output_type": "stream",
     "text": [
      "11895737\n"
     ]
    }
   ],
   "source": [
    "##Count each word and letters in text\n",
    "\n",
    "\n",
    "wordsoutput = open('wordsoutput.txt' , 'w')\n",
    "lettersoutput = open('lettersoutput.txt', 'w')\n",
    "\n",
    "words = {}\n",
    "letters = {}\n",
    "with open('europarl-v7.hu-en.hu' , 'r') as input_file:\n",
    "    for line in input_file:\n",
    "        wordsInLine = line.split()\n",
    "        for word in wordsInLine:\n",
    "            for letter in word:\n",
    "                if letter in letters.keys():\n",
    "                    letters[letter] += 1\n",
    "                else:\n",
    "                    letters[letter] = 1\n",
    "            if word in words.keys():\n",
    "                words[word] += 1\n",
    "            else:\n",
    "                words[word] = 1\n",
    "\n",
    "#Writing output into files\n",
    "for i, j in sorted(words.items(), key=lambda item: (item[1] , item[0]), reverse=True):\n",
    "    wordsoutput.write(\"{0} \\t {1} \\n\".format(i,j))\n",
    "for k, l in sorted(letters.items(), key=lambda item: (item[1], item[0]), reverse=True):\n",
    "    lettersoutput.write(\"{0} \\t {1} \\n\".format(k,l))\n"
   ]
  },
  {
   "cell_type": "code",
   "execution_count": 5,
   "metadata": {
    "collapsed": false
   },
   "outputs": [],
   "source": [
    "#Same as last, with collections.Counter\n",
    "\n",
    "from collections import Counter\n",
    "\n",
    "wordsoutput = open('wordsoutput2.txt' , 'w')\n",
    "lettersoutput = open('lettersoutput2.txt' , 'w')\n",
    "\n",
    "wordCounter = Counter()\n",
    "letterCounter = Counter()\n",
    "\n",
    "with open('europarl-v7.hu-en.hu' , 'r') as input_file:\n",
    "    for word in input_file.read().split():\n",
    "            wordCounter[word] += 1\n",
    "            for letter in word:\n",
    "                letterCounter[letter] += 1\n",
    "        \n",
    "for item in letterCounter.most_common():\n",
    "    lettersoutput.write(\"{0} \\t {1} \\n\".format(item[0] , item[1]))\n",
    "    \n",
    "for item in wordCounter.most_common():\n",
    "    wordsoutput.write(\"{0} \\t {1} \\n\".format(item[0] , item[1]))\n",
    "\n",
    "\n",
    "\n"
   ]
  },
  {
   "cell_type": "code",
   "execution_count": 35,
   "metadata": {
    "collapsed": false
   },
   "outputs": [
    {
     "name": "stdout",
     "output_type": "stream",
     "text": [
      "95533291\n"
     ]
    }
   ],
   "source": [
    "import string\n",
    "sum=0\n",
    "with open('europarl-v7.hu-en.hu' , 'r') as input_file:\n",
    "    with open('lowercase_output.txt' , 'w') as output_file: \n",
    "        for word in input_file.read():\n",
    "            for p in string.punctuation:\n",
    "                word = word.replace(p,\"\")\n",
    "            output_file.write(word.lower())\n",
    "            sum += 1\n",
    "print(sum)"
   ]
  },
  {
   "cell_type": "code",
   "execution_count": 10,
   "metadata": {
    "collapsed": true
   },
   "outputs": [],
   "source": [
    "## Számolás futtatása a kisbetűsített szövegen\n",
    "from collections import Counter\n",
    "\n",
    "\n",
    "\n",
    "\n",
    "word_counter_low = Counter()\n",
    "letter_counter_low = Counter()\n",
    "\n",
    "with open('lowercase_output.txt' , 'r') as input_file:\n",
    "    for word in input_file.read().split():\n",
    "        if word.isdigit():\n",
    "            word_counter_low[\"__NUM__\"] += 1\n",
    "        else:\n",
    "            word_counter_low[word] += 1\n",
    "            for letter in word:\n",
    "                letter_counter_low[letter] += 1\n",
    "        \n",
    "with open('lower_letters_stats.txt' , 'w') as lettersoutput:\n",
    "    for item in letter_counter_low.most_common():\n",
    "        lettersoutput.write(\"{0} \\t {1} \\n\".format(item[0] , item[1]))\n",
    "\n",
    "        \n",
    "with open('lower_words_stats.txt' , 'w') as wordsoutput:\n",
    "    for item in word_counter_low.most_common():\n",
    "        wordsoutput.write(\"{0} \\t {1} \\n\".format(item[0] , item[1]))"
   ]
  },
  {
   "cell_type": "code",
   "execution_count": 68,
   "metadata": {
    "collapsed": false
   },
   "outputs": [],
   "source": [
    "##Ritka szavak lecserélése RARE-re\n",
    "\n",
    "\n",
    "\n",
    "def change_rare_words(filename, rare_border):\n",
    "    wordCounter = {}\n",
    "\n",
    "    with open(filename , 'r') as input_file:\n",
    "        for word in input_file.read().split():\n",
    "            if word.isdigit():\n",
    "                if \"__NUM__\" in wordCounter.keys():\n",
    "                    wordCounter[\"__NUM__\"] += 1\n",
    "                else:\n",
    "                    wordCounter[\"__NUM__\"] = 1\n",
    "            else:\n",
    "                if word in wordCounter.keys():\n",
    "                    wordCounter[word] += 1\n",
    "                else: \n",
    "                    wordCounter[word] = 1\n",
    "    \n",
    "    with open(filename, 'r') as input_file:\n",
    "        with open('teszt.txt' , 'w') as output_file: \n",
    "            for line in input_file:\n",
    "                wordInLine = line.split()\n",
    "                for word in wordInLine:\n",
    "                    if word in wordCounter.keys():                    \n",
    "                        if wordCounter[word] < rare_border:\n",
    "                            output_file.write(' __RARE__ ' + ' ')\n",
    "                        else: \n",
    "                            output_file.write(word + ' ')\n",
    "                output_file.write('\\n')\n",
    "\n",
    "change_rare_words('lowercase_output.txt' , 40)"
   ]
  },
  {
   "cell_type": "code",
   "execution_count": null,
   "metadata": {
    "collapsed": true
   },
   "outputs": [],
   "source": []
  },
  {
   "cell_type": "code",
   "execution_count": 67,
   "metadata": {
    "collapsed": false
   },
   "outputs": [
    {
     "name": "stdout",
     "output_type": "stream",
     "text": [
      "0\n",
      "3609718\n",
      "3969381\n",
      "4164977\n",
      "4293413\n",
      "4386274\n",
      "4458242\n",
      "4515920\n",
      "4563433\n",
      "4603444\n",
      "4637626\n",
      "4667180\n",
      "4693228\n",
      "4716351\n",
      "4736891\n",
      "4755408\n",
      "4772578\n",
      "4787578\n",
      "4801868\n",
      "4814368\n",
      "4826868\n"
     ]
    },
    {
     "data": {
      "image/png": "[encoded data removed]",
      "text/plain": [
       "<matplotlib.figure.Figure at 0x7fc718dba7f0>"
      ]
     },
     "metadata": {},
     "output_type": "display_data"
    }
   ],
   "source": [
    "## Az első x szó mennyire fedi le az eredeti szöveget? \n",
    "%matplotlib inline\n",
    "\n",
    "import string\n",
    "import matplotlib.pyplot as plt\n",
    "\n",
    "def check_dict_ratio(dict_size):\n",
    "    frequent_words = {}\n",
    "    numOfFrequent = 0\n",
    "    numOfWords = 0\n",
    "    check_number = 0\n",
    "    sum = 0\n",
    "    for item in word_counter_low.most_common():\n",
    "        if check_number < dict_size:\n",
    "            frequent_words[item[0]] = item[1] \n",
    "            check_number += 1\n",
    "            sum += item[1]\n",
    "        else:\n",
    "            break;\n",
    "    \n",
    "    print(sum)\n",
    "    with open('lowercase_output.txt' , 'r') as input_file:\n",
    "        for word in input_file.read().split():\n",
    "            if word in frequent_words.keys():\n",
    "                numOfFrequent += 1\n",
    "                numOfWords += 1\n",
    "            else:\n",
    "                numOfWords += 1\n",
    "    \n",
    "#    print('Ratio: ' + str(numOfFrequent) + ' / ' + str(numOfWords))\n",
    "    ratio = numOfFrequent / numOfWords\n",
    "    ratio *= 100\n",
    "#    print(str(ratio) + '%' + ' - At the dict_size of: ' + str(dict_size) + '\\n\\n' )\n",
    "    return ratio\n",
    "\n",
    "\n",
    "frq_words = 0\n",
    "freq_percent = {}\n",
    "\n",
    "while True: \n",
    "    if frq_words > 50000: \n",
    "        break\n",
    "    else:\n",
    "        freq_percent[frq_words] = check_dict_ratio(frq_words)\n",
    "        frq_words += 2500\n",
    "\n",
    "#x = freq_percent.keys()\n",
    "#y = freq_percent.values()\n",
    "#plt.fill(x,y,'r')\n",
    "#plt.grid(true)\n",
    "#plt.show()\n",
    "\n",
    "lists = sorted(freq_percent.values())\n",
    "plt.plot(lists)\n",
    "plt.show()\n",
    "\n",
    "#plt.bar(range(len(freq_percent)), freq_percent.values(), align='center')\n",
    "#plt.xticks(range(len(freq_percent)), freq_percent.keys())\n",
    "\n",
    "#plt.show()"
   ]
  },
  {
   "cell_type": "code",
   "execution_count": null,
   "metadata": {
    "collapsed": true
   },
   "outputs": [],
   "source": []
  }
 ],
 "metadata": {
  "anaconda-cloud": {},
  "kernelspec": {
   "display_name": "Python [default]",
   "language": "python",
   "name": "python3"
  },
  "language_info": {
   "codemirror_mode": {
    "name": "ipython",
    "version": 3
   },
   "file_extension": ".py",
   "mimetype": "text/x-python",
   "name": "python",
   "nbconvert_exporter": "python",
   "pygments_lexer": "ipython3",
   "version": "3.5.2"
  }
 },
 "nbformat": 4,
 "nbformat_minor": 1
}
