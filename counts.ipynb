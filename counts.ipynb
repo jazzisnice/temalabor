{
 "cells": [
  {
   "cell_type": "code",
   "execution_count": 7,
   "metadata": {
    "collapsed": false
   },
   "outputs": [],
   "source": [
    "##Count each word in text\n",
    "\n",
    "input = open('europarl-v7.hu-en.hu' , 'r')\n",
    "wordsoutput = open('wordsoutput.txt' , 'w')\n",
    "lettersoutput = open('lettersoutput.txt', 'w')\n",
    "\n",
    "words = {}\n",
    "letters = {}\n",
    "for line in input:\n",
    "    wordsInLine = line.split()\n",
    "    for word in wordsInLine:\n",
    "        for letter in word:\n",
    "            if letter in letters.keys():\n",
    "                letters[letter] += 1\n",
    "            else:\n",
    "                letters[letter] = 1\n",
    "        if word in words.keys():\n",
    "            words[word] += 1\n",
    "        else:\n",
    "            words[word] = 1\n",
    "\n",
    "#Writing output into files\n",
    "for i, j in sorted(words.items(), key=lambda item: (item[1] , item[0]), reverse=True):\n",
    "    wordsoutput.write(\"{0} - {1} \\n\".format(i,j))\n",
    "for k, l in sorted(letters.items(), key=lambda item: (item[1], item[0]), reverse=True):\n",
    "    lettersoutput.write(\"{0} - {1} \\n\".format(k,l))\n"
   ]
  },
  {
   "cell_type": "code",
   "execution_count": 3,
   "metadata": {
    "collapsed": false
   },
   "outputs": [],
   "source": [
    "from collections import Counter\n",
    "\n",
    "\n",
    "input = open('europarl-v7.hu-en.hu' , 'r')\n",
    "wordsoutput = open('wordsoutput2.txt' , 'w')\n",
    "lettersoutput = open('lettersoutput2.txt' , 'w')\n",
    "\n",
    "wordCounter = Counter()\n",
    "letterCounter = Counter()\n",
    "\n",
    "for word in input.read().split():\n",
    "        wordCounter[word] += 1\n",
    "        for letter in word:\n",
    "            letterCounter[letter] += 1\n",
    "        \n",
    "for item in letterCounter.most_common():\n",
    "    lettersoutput.write(\"{0} - {1} \\n\".format(item[0] , item[1]))\n",
    "    \n",
    "for item in wordCounter.most_common():\n",
    "    wordsoutput.write(\"{0} - {1} \\n\".format(item[0] , item[1]))\n",
    "\n",
    "\n",
    "\n"
   ]
  },
  {
   "cell_type": "code",
   "execution_count": null,
   "metadata": {
    "collapsed": true
   },
   "outputs": [],
   "source": []
  }
 ],
 "metadata": {
  "anaconda-cloud": {},
  "kernelspec": {
   "display_name": "Python [default]",
   "language": "python",
   "name": "python3"
  },
  "language_info": {
   "codemirror_mode": {
    "name": "ipython",
    "version": 3
   },
   "file_extension": ".py",
   "mimetype": "text/x-python",
   "name": "python",
   "nbconvert_exporter": "python",
   "pygments_lexer": "ipython3",
   "version": "3.5.2"
  }
 },
 "nbformat": 4,
 "nbformat_minor": 1
}
