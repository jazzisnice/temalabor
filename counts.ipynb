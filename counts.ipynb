{
 "cells": [
  {
   "cell_type": "code",
   "execution_count": 7,
   "metadata": {
    "collapsed": false
   },
   "outputs": [],
   "source": [
    "##Count each word in text\n",
    "\n",
    "input = open('europarl-v7.hu-en.hu' , 'r')\n",
    "wordsoutput = open('wordsoutput.txt' , 'w')\n",
    "lettersoutput = open('lettersoutput.txt', 'w')\n",
    "\n",
    "words = {}\n",
    "letters = {}\n",
    "for line in input:\n",
    "    wordsInLine = line.split()\n",
    "    for word in wordsInLine:\n",
    "        for letter in word:\n",
    "            if letter in letters.keys():\n",
    "                letters[letter] += 1\n",
    "            else:\n",
    "                letters[letter] = 1\n",
    "        if word in words.keys():\n",
    "            words[word] += 1\n",
    "        else:\n",
    "            words[word] = 1\n",
    "\n",
    "#Writing output into files\n",
    "for i, j in sorted(words.items(), key=lambda item: (item[1] , item[0]), reverse=True):\n",
    "    wordsoutput.write(\"{0} - {1} \\n\".format(i,j))\n",
    "for k, l in sorted(letters.items(), key=lambda item: (item[1], item[0]), reverse=True):\n",
    "    lettersoutput.write(\"{0} - {1} \\n\".format(k,l))\n",
    "\n"
   ]
  },
  {
   "cell_type": "code",
   "execution_count": null,
   "metadata": {
    "collapsed": true
   },
   "outputs": [],
   "source": []
  },
  {
   "cell_type": "code",
   "execution_count": null,
   "metadata": {
    "collapsed": true
   },
   "outputs": [],
   "source": []
  }
 ],
 "metadata": {
  "anaconda-cloud": {},
  "kernelspec": {
   "display_name": "Python [default]",
   "language": "python",
   "name": "python3"
  },
  "language_info": {
   "codemirror_mode": {
    "name": "ipython",
    "version": 3
   },
   "file_extension": ".py",
   "mimetype": "text/x-python",
   "name": "python",
   "nbconvert_exporter": "python",
   "pygments_lexer": "ipython3",
   "version": "3.5.2"
  }
 },
 "nbformat": 4,
 "nbformat_minor": 1
}
